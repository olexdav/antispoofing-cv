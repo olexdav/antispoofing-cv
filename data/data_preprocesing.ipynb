{
 "cells": [
  {
   "cell_type": "code",
   "execution_count": 1,
   "metadata": {},
   "outputs": [],
   "source": [
    "import cv2 as cv\n",
    "import os\n",
    "from glob import glob\n",
    "import torchvision.transforms as transforms\n",
    "import torch\n",
    "\n",
    "import matplotlib.pyplot as plt\n",
    "%matplotlib inline\n",
    "plt.rcParams['figure.figsize']=(40,40)"
   ]
  },
  {
   "cell_type": "markdown",
   "metadata": {},
   "source": [
    "# Define Constants"
   ]
  },
  {
   "cell_type": "code",
   "execution_count": 2,
   "metadata": {},
   "outputs": [],
   "source": [
    "folder_names = ['val/nonspoof/',\n",
    "                'val/spoof/',\n",
    "                'train/nonspoof/',\n",
    "                'train/spoof/',]\n",
    "\n",
    "IMG_SIZE = 224\n",
    "\n",
    "transform = transforms.Compose([\n",
    "     transforms.ToTensor(),\n",
    "     #transforms.Normalize((0.5, 0.5, 0.5), (0.5, 0.5, 0.5)),\n",
    "     #transforms.Lambda(lambda x: x + 1./128 * torch.rand(x.size())),\n",
    "])"
   ]
  },
  {
   "cell_type": "markdown",
   "metadata": {},
   "source": [
    "# Functions"
   ]
  },
  {
   "cell_type": "code",
   "execution_count": 3,
   "metadata": {},
   "outputs": [],
   "source": [
    "def img_path(main_path,img_name):\n",
    "    return os.path.join(main_path,img_name)\n",
    "\n",
    "def BGR_to_RGB(img):\n",
    "    return cv.cvtColor(img,cv.COLOR_BGR2RGB)\n",
    "\n",
    "def get_img(main_path,img_name):\n",
    "    return BGR_to_RGB(cv.imread(img_path(main_path,img_name)))\n",
    "\n",
    "def save_tensor_img(tensor,folder_name,image_name):\n",
    "    torch.save(tensor , os.path.join('prepared',folder_name,image_name[:-4]+'.pt'))\n",
    "\n",
    "def resize_image(image):\n",
    "    \n",
    "    h, w, c = image.shape\n",
    "    dw, dh = w // 4, h // 4\n",
    "    \n",
    "    return cv.resize(image[dh:h-dh, dw:w-dw, :], (IMG_SIZE, IMG_SIZE))"
   ]
  },
  {
   "cell_type": "markdown",
   "metadata": {},
   "source": [
    "# Create prepared folder tree"
   ]
  },
  {
   "cell_type": "code",
   "execution_count": 5,
   "metadata": {},
   "outputs": [
    {
     "name": "stdout",
     "output_type": "stream",
     "text": [
      "val - created\n",
      "val/nonspoof - created\n",
      "val/spoof - created\n",
      "train - created\n",
      "train/nonspoof - created\n",
      "train/spoof - created\n"
     ]
    }
   ],
   "source": [
    "if not os.path.exists('prepared'):\n",
    "    os.mkdir('prepared')\n",
    "    print('prepared - created')\n",
    "for folder_name in folder_names:\n",
    "    if folder_name == 'test':\n",
    "        print(folder_name + ' - created')\n",
    "        os.mkdir(os.path.join('prepared',folder_name))\n",
    "        continue\n",
    "    if not os.path.exists(os.path.join('prepared',folder_name.split('/')[0])):\n",
    "        print(folder_name.split('/')[0] + ' - created')\n",
    "        os.mkdir(os.path.join('prepared',folder_name.split('/')[0]))\n",
    "    os.mkdir(os.path.join('prepared',folder_name[:-1]))\n",
    "    print(folder_name[:-1]+' - created')"
   ]
  },
  {
   "cell_type": "markdown",
   "metadata": {},
   "source": [
    "# Image preprocessing"
   ]
  },
  {
   "cell_type": "code",
   "execution_count": 7,
   "metadata": {},
   "outputs": [
    {
     "name": "stdout",
     "output_type": "stream",
     "text": [
      "folder name:  val/nonspoof/\n",
      "imgs in folder: 100\n",
      "0 %\n",
      "files in folder: 100\n",
      "not images in folder: 0\n",
      "folder name:  val/spoof/\n",
      "imgs in folder: 100\n",
      "0 %\n",
      "files in folder: 100\n",
      "not images in folder: 0\n",
      "folder name:  train/nonspoof/\n",
      "imgs in folder: 402\n",
      "0 %\n",
      "25 %\n",
      "50 %\n",
      "75 %\n",
      "100 %\n",
      "files in folder: 402\n",
      "not images in folder: 0\n",
      "folder name:  train/spoof/\n",
      "imgs in folder: 397\n",
      "0 %\n",
      "25 %\n",
      "50 %\n",
      "76 %\n",
      "files in folder: 397\n",
      "not images in folder: 0\n"
     ]
    }
   ],
   "source": [
    "for folder_name in folder_names:\n",
    "    raw_folder_name = os.path.join('unprepared',folder_name)\n",
    "    \n",
    "    print('folder name: ', folder_name)\n",
    "    print('imgs in folder:', len(os.listdir(raw_folder_name)))\n",
    "    \n",
    "    image_names = os.listdir(raw_folder_name)\n",
    "    \n",
    "    len_images = len(image_names)\n",
    "    \n",
    "    for counts, img_name in enumerate(image_names):\n",
    "            \n",
    "        \n",
    "        img = get_img(raw_folder_name,img_name)\n",
    "\n",
    "        img = resize_image(img)\n",
    "\n",
    "        img_tensor = transform(img) \n",
    "        save_tensor_img(img_tensor,folder_name,img_name)\n",
    "            \n",
    "        if counts % 100 == 0:\n",
    "            print(round(round((float(counts)/len_images),3)*100),'%')\n",
    "    \n",
    "    \n",
    "    prepared_folder_name = os.path.join('prepared',folder_name)\n",
    "    \n",
    "    print('files in folder:', len(os.listdir(prepared_folder_name)))"
   ]
  },
  {
   "cell_type": "code",
   "execution_count": null,
   "metadata": {},
   "outputs": [],
   "source": []
  }
 ],
 "metadata": {
  "kernelspec": {
   "display_name": "Python 3",
   "language": "python",
   "name": "python3"
  },
  "language_info": {
   "codemirror_mode": {
    "name": "ipython",
    "version": 3
   },
   "file_extension": ".py",
   "mimetype": "text/x-python",
   "name": "python",
   "nbconvert_exporter": "python",
   "pygments_lexer": "ipython3",
   "version": "3.6.6"
  }
 },
 "nbformat": 4,
 "nbformat_minor": 2
}
